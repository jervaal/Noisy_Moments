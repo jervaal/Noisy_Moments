{
 "cells": [
  {
   "cell_type": "code",
   "execution_count": null,
   "metadata": {},
   "outputs": [
    {
     "name": "stdout",
     "output_type": "stream",
     "text": [
      "6\n",
      "120\n"
     ]
    }
   ],
   "source": [
    "ml_values = [-1, 0, 1]\n",
    "ms_values = [-0.5, 0.5]\n",
    "\n",
    "pstates = [(ml, ms) for ml in ml_values for ms in ms_values]\n",
    "\n",
    "print(len(pstates))\n",
    "\n",
    "Possible_combinations = []\n",
    "\n",
    "for e1 in pstates:\n",
    "    for e2 in pstates:\n",
    "        for e3 in pstates:\n",
    "\n",
    "            if e1 != e2 and e1 != e3 and e2 != e3:\n",
    "            \n",
    "                term = [e1, e2, e3]\n",
    "                set_term =[[e1, e2, e3], [e1, e3, e2], [e2, e1, e3], [e2, e3, e1], [e3, e1, e2], [e3, e2, e1]]\n",
    "\n",
    "                Possible_combinations.append(term)\n",
    "\n",
    "\n",
    "ml_values = [-1, 0, 1]\n",
    "ms_values = [-0.5, 0.5]\n",
    "\n",
    "pstates = [(ml, ms) for ml in ml_values for ms in ms_values]\n",
    "\n",
    "                \n",
    "Possible_comb = [[e1, e2, e3] if e1 != e2 \n",
    "                              and e1 != e3 \n",
    "                              and e2 != e3 \n",
    "                              for e1 in pstates\n",
    "                              for e2 in pstates\n",
    "                              for e3 in pstates ]\n",
    "\n",
    "\n",
    "                \n",
    "\n",
    "\n",
    "print(len(Possible_combinations))"
   ]
  },
  {
   "cell_type": "code",
   "execution_count": 22,
   "metadata": {},
   "outputs": [
    {
     "name": "stdout",
     "output_type": "stream",
     "text": [
      "[(-1, -0.5), (-1, 0.5), (0, -0.5)]\n",
      "[(0, 0.5), (1, -0.5), (1, 0.5)]\n",
      "[(-1, 0.5), (0, -0.5), (1, 0.5)]\n",
      "[(-1, 0.5), (0, 0.5), (1, 0.5)]\n",
      "[(-1, 0.5), (1, -0.5), (1, 0.5)]\n",
      "[(0, -0.5), (1, -0.5), (1, 0.5)]\n",
      "[(-1, -0.5), (0, -0.5), (1, -0.5)]\n",
      "[(0, -0.5), (0, 0.5), (1, 0.5)]\n",
      "[(-1, -0.5), (-1, 0.5), (1, 0.5)]\n",
      "[(-1, -0.5), (0, 0.5), (1, -0.5)]\n",
      "[(-1, 0.5), (0, -0.5), (0, 0.5)]\n",
      "[(-1, -0.5), (-1, 0.5), (0, 0.5)]\n",
      "[(-1, 0.5), (0, -0.5), (1, -0.5)]\n",
      "[(-1, -0.5), (0, 0.5), (1, 0.5)]\n",
      "[(-1, -0.5), (0, -0.5), (1, 0.5)]\n",
      "[(-1, 0.5), (0, 0.5), (1, -0.5)]\n",
      "[(-1, -0.5), (1, -0.5), (1, 0.5)]\n",
      "[(0, -0.5), (0, 0.5), (1, -0.5)]\n",
      "[(-1, -0.5), (-1, 0.5), (1, -0.5)]\n",
      "[(-1, -0.5), (0, -0.5), (0, 0.5)]\n",
      "\n",
      " 20\n"
     ]
    }
   ],
   "source": [
    "ml_values = [-1, 0, 1]\n",
    "ms_values = [-0.5, 0.5]\n",
    "\n",
    "# Generate all possible states for one electron\n",
    "pstates = [(ml, ms) for ml in ml_values for ms in ms_values]\n",
    "\n",
    "# Generate unique combinations of three electrons, avoiding equivalent permutations\n",
    "possible_combinations = [\n",
    "    sorted([e1, e2, e3])  # Sort the triplet to normalize its representation\n",
    "    for e1 in pstates\n",
    "    for e2 in pstates\n",
    "    for e3 in pstates\n",
    "    if e1 != e2 and e1 != e3 and e2 != e3\n",
    "]\n",
    "\n",
    "# Remove duplicates by converting the list to a set, then back to a list\n",
    "unique_combinations = [list(comb) for comb in {tuple(comb) for comb in possible_combinations}]\n",
    "\n",
    "# Print the resulting combinations\n",
    "for combo in unique_combinations:\n",
    "    print(combo)\n",
    "\n",
    "print( '\\n', len(unique_combinations))"
   ]
  },
  {
   "cell_type": "code",
   "execution_count": null,
   "metadata": {},
   "outputs": [
    {
     "name": "stdout",
     "output_type": "stream",
     "text": [
      "False\n",
      "False\n"
     ]
    }
   ],
   "source": [
    "print((1,4) != (1, 2) != (1, 2))\n",
    "\n",
    "print(   and )"
   ]
  },
  {
   "cell_type": "code",
   "execution_count": null,
   "metadata": {},
   "outputs": [
    {
     "name": "stdout",
     "output_type": "stream",
     "text": [
      "    l1   s1  l2   s2  l3   s3\n",
      "0   -1 -0.5  -1  0.5   0 -0.5\n",
      "1    0  0.5   1 -0.5   1  0.5\n",
      "2   -1  0.5   0 -0.5   1  0.5\n",
      "3   -1  0.5   0  0.5   1  0.5\n",
      "4   -1  0.5   1 -0.5   1  0.5\n",
      "5    0 -0.5   1 -0.5   1  0.5\n",
      "6   -1 -0.5   0 -0.5   1 -0.5\n",
      "7    0 -0.5   0  0.5   1  0.5\n",
      "8   -1 -0.5  -1  0.5   1  0.5\n",
      "9   -1 -0.5   0  0.5   1 -0.5\n",
      "10  -1  0.5   0 -0.5   0  0.5\n",
      "11  -1 -0.5  -1  0.5   0  0.5\n",
      "12  -1  0.5   0 -0.5   1 -0.5\n",
      "13  -1 -0.5   0  0.5   1  0.5\n",
      "14  -1 -0.5   0 -0.5   1  0.5\n",
      "15  -1  0.5   0  0.5   1 -0.5\n",
      "16  -1 -0.5   1 -0.5   1  0.5\n",
      "17   0 -0.5   0  0.5   1 -0.5\n",
      "18  -1 -0.5  -1  0.5   1 -0.5\n",
      "19  -1 -0.5   0 -0.5   0  0.5\n"
     ]
    }
   ],
   "source": [
    "import pandas as pd\n",
    "\n",
    "ml_values = [-1, 0, 1] \n",
    "ms_values = [-0.5, 0.5]\n",
    "\n",
    "# Generate all possible states for one electron\n",
    "pstates = [(ml, ms) for ml in ml_values for ms in ms_values]\n",
    "\n",
    "# Generate unique combinations of three electrons, avoiding equivalent permutations\n",
    "possible_combinations = [\n",
    "    sorted([e1, e2, e3])  # Sort the triplet to normalize its representation\n",
    "    for e1 in pstates\n",
    "    for e2 in pstates\n",
    "    for e3 in pstates\n",
    "    if e1 != e2 and e1 != e3 and e2 != e3\n",
    "]\n",
    "\n",
    "# Remove duplicates by converting the list to a set, then back to a list\n",
    "unique_combinations = [list(comb) for comb in {tuple(comb) for comb in possible_combinations}]\n",
    "\n",
    "# Prepare data for the table\n",
    "table_data = []\n",
    "for comb in unique_combinations:\n",
    "    e1, e2, e3 = comb\n",
    "    table_data.append([e1[0], e1[1], e2[0], e2[1], e3[0], e3[1]])\n",
    "\n",
    "# Create a DataFrame using Pandas\n",
    "columns = [\"l1\", \"s1\", \"l2\", \"s2\", \"l3\", \"s3\"]\n",
    "df = pd.DataFrame(table_data, columns=columns)\n",
    "\n",
    "# Print the DataFrame\n",
    "print(df)\n",
    "\n",
    "# Optionally save the table to a CSV file\n",
    "df.to_csv(\"np3_combinations.csv\", index=False)\n"
   ]
  },
  {
   "cell_type": "code",
   "execution_count": null,
   "metadata": {},
   "outputs": [],
   "source": []
  }
 ],
 "metadata": {
  "kernelspec": {
   "display_name": "VQE1",
   "language": "python",
   "name": "python3"
  },
  "language_info": {
   "codemirror_mode": {
    "name": "ipython",
    "version": 3
   },
   "file_extension": ".py",
   "mimetype": "text/x-python",
   "name": "python",
   "nbconvert_exporter": "python",
   "pygments_lexer": "ipython3",
   "version": "3.11.10"
  }
 },
 "nbformat": 4,
 "nbformat_minor": 2
}
